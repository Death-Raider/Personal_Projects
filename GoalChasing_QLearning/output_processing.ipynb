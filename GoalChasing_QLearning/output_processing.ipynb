{
 "cells": [
  {
   "cell_type": "code",
   "execution_count": null,
   "metadata": {},
   "outputs": [],
   "source": [
    "import numpy as np\n",
    "import matplotlib.pyplot as plt"
   ]
  },
  {
   "cell_type": "code",
   "execution_count": null,
   "metadata": {},
   "outputs": [],
   "source": [
    "with open (\"output.log\") as f:\n",
    "    data_lines = f.readlines()[1::2]\n",
    "clean_data = [word.rstrip().lstrip().split(\":\")  for data_line in data_lines for word in data_line.split('\\t') if word != '']\n",
    "clean_data"
   ]
  },
  {
   "cell_type": "code",
   "execution_count": null,
   "metadata": {},
   "outputs": [],
   "source": [
    "\n",
    "loss_data_dict = {key:[] for key in dict(clean_data).keys()}\n",
    "loss_data_dict"
   ]
  },
  {
   "cell_type": "code",
   "execution_count": null,
   "metadata": {},
   "outputs": [],
   "source": [
    "for i in range(0,len(clean_data),len(loss_data_dict)):\n",
    "    for j in range(len(loss_data_dict)):\n",
    "        k = clean_data[i+j][0]\n",
    "        v = clean_data[i+j][1]\n",
    "        v = v.replace('nan', 'np.nan')\n",
    "\n",
    "        eval_v = eval(v)\n",
    "            \n",
    "        loss_data_dict[k].append(eval_v)\n",
    "\n",
    "robot_count = len(loss_data_dict['average_loss'][0])\n",
    "epochs_range = len(loss_data_dict['iter'])\n",
    "loss_data_dict['average_loss'] = np.array(loss_data_dict['average_loss'])\n",
    "loss_data_dict['average_reward'] = np.array(loss_data_dict['average_reward'])"
   ]
  },
  {
   "cell_type": "code",
   "execution_count": null,
   "metadata": {},
   "outputs": [],
   "source": [
    "loss_data_dict['average_loss'].shape"
   ]
  },
  {
   "cell_type": "code",
   "execution_count": null,
   "metadata": {},
   "outputs": [],
   "source": [
    "rows = 5\n",
    "cols = 4"
   ]
  },
  {
   "cell_type": "code",
   "execution_count": null,
   "metadata": {},
   "outputs": [],
   "source": [
    "fig, axs = plt.subplots(ncols=cols,nrows=rows,figsize=(16,20))\n",
    "axs = axs.flatten()\n",
    "for i in range(robot_count): # for every robot\n",
    "\n",
    "    axs[i].plot(range(epochs_range)[:],loss_data_dict['average_loss'][:,i])\n",
    "    axs[i].set_title(f\"Robot {i}\")\n",
    "fig.suptitle('Loss vs Epoch')\n",
    "plt.savefig(\"4_robot_loss.png\")\n",
    "plt.show()\n"
   ]
  },
  {
   "cell_type": "code",
   "execution_count": null,
   "metadata": {},
   "outputs": [],
   "source": [
    "fig, axs = plt.subplots(ncols=cols,nrows=rows,figsize=(16,20))\n",
    "axs = axs.flatten()\n",
    "for i in range(robot_count): # for every robot\n",
    "\n",
    "    axs[i].plot(range(epochs_range)[:],loss_data_dict['average_reward'][:,i])\n",
    "    axs[i].set_title(f\"Robot {i}\")\n",
    "fig.suptitle('Reward vs Epoch')\n",
    "plt.savefig(\"4_robot_reward.png\")\n",
    "plt.show()"
   ]
  },
  {
   "cell_type": "code",
   "execution_count": null,
   "metadata": {},
   "outputs": [],
   "source": [
    "fig, axs = plt.subplots(ncols=cols,nrows=rows,figsize=(10,20))\n",
    "axs = axs.flatten()\n",
    "for i in range(robot_count): # for every robot\n",
    "\n",
    "    axs[i].plot(range(epochs_range)[:],loss_data_dict['iter'][:])\n",
    "    axs[i].set_title(f\"Robot {i}\")\n",
    "fig.suptitle('Num Iterations vs Epoch')\n",
    "plt.savefig(\"4_robot_iter.png\")\n",
    "plt.show()"
   ]
  },
  {
   "cell_type": "code",
   "execution_count": null,
   "metadata": {},
   "outputs": [],
   "source": [
    "fig, axs = plt.subplots(ncols=cols,nrows=rows,figsize=(10,20))\n",
    "axs = axs.flatten()\n",
    "for i in range(robot_count): # for every robot\n",
    "\n",
    "    axs[i].plot(range(epochs_range)[:-1],loss_data_dict['Epoch time'][:-1])\n",
    "    axs[i].set_title(f\"Robot {i}\")\n",
    "fig.suptitle('Epoch Time vs Epoch')\n",
    "plt.savefig(\"4_robot_time.png\")\n",
    "plt.show()"
   ]
  }
 ],
 "metadata": {
  "kernelspec": {
   "display_name": "Python 3",
   "language": "python",
   "name": "python3"
  },
  "language_info": {
   "codemirror_mode": {
    "name": "ipython",
    "version": 3
   },
   "file_extension": ".py",
   "mimetype": "text/x-python",
   "name": "python",
   "nbconvert_exporter": "python",
   "pygments_lexer": "ipython3",
   "version": "3.11.3"
  }
 },
 "nbformat": 4,
 "nbformat_minor": 2
}
